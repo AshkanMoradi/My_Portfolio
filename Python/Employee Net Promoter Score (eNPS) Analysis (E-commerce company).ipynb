{
 "cells": [
  {
   "cell_type": "code",
   "execution_count": 148,
   "id": "867a78c6",
   "metadata": {},
   "outputs": [],
   "source": [
    "# Importing required libraries\n",
    "import numpy as np\n",
    "import pandas as pd\n",
    "import matplotlib.pyplot as plt"
   ]
  },
  {
   "cell_type": "code",
   "execution_count": 149,
   "id": "570b9f82",
   "metadata": {},
   "outputs": [],
   "source": [
    "# Import Excel file and create our main Dataframe\n",
    "df01 = pd.read_excel('Ashkan Moradi V02 (Excel).xlsx', sheet_name='ResultScore1To5')"
   ]
  },
  {
   "cell_type": "code",
   "execution_count": 150,
   "id": "244eeafc",
   "metadata": {},
   "outputs": [],
   "source": [
    "# Creating required Dataframs\n",
    "Total_Promoter_df = df01[(df01.Score == \"Promoter\")]\n",
    "Total_Detractor_df = df01[(df01.Score == \"Detractor\")]\n",
    "Operation_df = df01[df01.Department == \"Operations\"]\n",
    "Operation_Promoter_df = df01[(df01.Department == \"Operations\") & (df01.Score == \"Promoter\")]\n",
    "Operation_Detractor_df = df01[(df01.Department == \"Operations\") & (df01.Score == \"Detractor\")]\n",
    "HumanResources_df = df01[df01.Department == \"Human Resources\"]\n",
    "HumanResources_Promoter_df = df01[(df01.Department == \"Human Resources\") & (df01.Score == \"Promoter\")]\n",
    "HumanResources_Detractor_df = df01[(df01.Department == \"Human Resources\") & (df01.Score == \"Detractor\")]\n",
    "Commercial_df = df01[df01.Department == \"Commercial\"]\n",
    "Commercial_Promoter_df = df01[(df01.Department == \"Commercial\") & (df01.Score == \"Promoter\")]\n",
    "Commercial_Detractor_df = df01[(df01.Department == \"Commercial\") & (df01.Score == \"Detractor\")]"
   ]
  },
  {
   "cell_type": "code",
   "execution_count": 151,
   "id": "4082c918",
   "metadata": {},
   "outputs": [],
   "source": [
    "# removing unneccessary columns from dataframes\n",
    "df01 = df01.drop(['ID','Department','Score'], axis=1)\n",
    "Total_Promoter_df = Total_Promoter_df.drop(['ID','Department','Score'], axis=1)\n",
    "Total_Detractor_df = Total_Detractor_df.drop(['ID','Department','Score'], axis=1)\n",
    "Operation_df = Operation_df.drop(['ID','Department','Score'], axis=1)\n",
    "Operation_Promoter_df = Operation_Promoter_df.drop(['ID','Department','Score'], axis=1)\n",
    "Operation_Detractor_df = Operation_Detractor_df.drop(['ID','Department','Score'], axis=1)\n",
    "HumanResources_df = HumanResources_df.drop(['ID','Department','Score'], axis=1)\n",
    "HumanResources_Promoter_df = HumanResources_Promoter_df.drop(['ID','Department','Score'], axis=1)\n",
    "HumanResources_Detractor_df = HumanResources_Detractor_df.drop(['ID','Department','Score'], axis=1)\n",
    "Commercial_df = Commercial_df.drop(['ID','Department','Score'], axis=1)\n",
    "Commercial_Promoter_df = Commercial_Promoter_df.drop(['ID','Department','Score'], axis=1)\n",
    "Commercial_Detractor_df = Commercial_Detractor_df.drop(['ID','Department','Score'], axis=1)"
   ]
  },
  {
   "cell_type": "code",
   "execution_count": 228,
   "id": "eafb5789",
   "metadata": {},
   "outputs": [],
   "source": [
    "# Calculating the means of Question scores 1 to 5\n",
    "Total_columnsMean = df01.mean()\n",
    "Operation_AllColumnsMean = (Operation_df.mean())\n",
    "HumanResources_AllColumnsMean = (HumanResources_df.mean())\n",
    "Commercial_AllColumnsMean = (Commercial_df.mean())\n",
    "AllQuestionScoresMean = [Operation_AllColumnsMean, HumanResources_AllColumnsMean, Commercial_AllColumnsMean, Total_columnsMean]"
   ]
  },
  {
   "cell_type": "code",
   "execution_count": 213,
   "id": "47bffacf",
   "metadata": {},
   "outputs": [],
   "source": [
    "# Calculating the mean of Questions 1 to 19 scores in different department and in the Total to use in the Correlation Calculation\n",
    "Q1_columnsMean  = [Operation_AllColumnsMean[0],HumanResources_AllColumnsMean[0],Commercial_AllColumnsMean[0],Total_columnsMean[0]]\n",
    "Q2_columnsMean  = [Operation_AllColumnsMean[1],HumanResources_AllColumnsMean[1],Commercial_AllColumnsMean[1],Total_columnsMean[1]]\n",
    "Q3_columnsMean  = [Operation_AllColumnsMean[2],HumanResources_AllColumnsMean[2],Commercial_AllColumnsMean[2],Total_columnsMean[2]]\n",
    "Q4_columnsMean  = [Operation_AllColumnsMean[3],HumanResources_AllColumnsMean[3],Commercial_AllColumnsMean[3],Total_columnsMean[3]]\n",
    "Q5_columnsMean  = [Operation_AllColumnsMean[4],HumanResources_AllColumnsMean[4],Commercial_AllColumnsMean[4],Total_columnsMean[4]]\n",
    "Q6_columnsMean  = [Operation_AllColumnsMean[5],HumanResources_AllColumnsMean[5],Commercial_AllColumnsMean[5],Total_columnsMean[5]]\n",
    "Q7_columnsMean  = [Operation_AllColumnsMean[6],HumanResources_AllColumnsMean[6],Commercial_AllColumnsMean[6],Total_columnsMean[6]]\n",
    "Q8_columnsMean  = [Operation_AllColumnsMean[7],HumanResources_AllColumnsMean[7],Commercial_AllColumnsMean[7],Total_columnsMean[7]]\n",
    "Q9_columnsMean  = [Operation_AllColumnsMean[8],HumanResources_AllColumnsMean[8],Commercial_AllColumnsMean[8],Total_columnsMean[8]]\n",
    "Q10_columnsMean = [Operation_AllColumnsMean[9],HumanResources_AllColumnsMean[9],Commercial_AllColumnsMean[9],Total_columnsMean[9]]\n",
    "Q11_columnsMean = [Operation_AllColumnsMean[10],HumanResources_AllColumnsMean[10],Commercial_AllColumnsMean[10],Total_columnsMean[10]]\n",
    "Q12_columnsMean = [Operation_AllColumnsMean[11],HumanResources_AllColumnsMean[11],Commercial_AllColumnsMean[11],Total_columnsMean[11]]\n",
    "Q13_columnsMean = [Operation_AllColumnsMean[12],HumanResources_AllColumnsMean[12],Commercial_AllColumnsMean[12],Total_columnsMean[12]]\n",
    "Q14_columnsMean = [Operation_AllColumnsMean[13],HumanResources_AllColumnsMean[13],Commercial_AllColumnsMean[13],Total_columnsMean[13]]\n",
    "Q15_columnsMean = [Operation_AllColumnsMean[14],HumanResources_AllColumnsMean[14],Commercial_AllColumnsMean[14],Total_columnsMean[14]]\n",
    "Q16_columnsMean = [Operation_AllColumnsMean[15],HumanResources_AllColumnsMean[15],Commercial_AllColumnsMean[15],Total_columnsMean[15]]\n",
    "Q17_columnsMean = [Operation_AllColumnsMean[16],HumanResources_AllColumnsMean[16],Commercial_AllColumnsMean[16],Total_columnsMean[16]]\n",
    "Q18_columnsMean = [Operation_AllColumnsMean[17],HumanResources_AllColumnsMean[17],Commercial_AllColumnsMean[17],Total_columnsMean[17]]\n",
    "Q19_columnsMean = [Operation_AllColumnsMean[18],HumanResources_AllColumnsMean[18],Commercial_AllColumnsMean[18],Total_columnsMean[18]]\n",
    "#A1= Q1_columnsMean.transpose().values.tolist()"
   ]
  },
  {
   "cell_type": "code",
   "execution_count": 154,
   "id": "9f8c1aee",
   "metadata": {},
   "outputs": [
    {
     "name": "stdout",
     "output_type": "stream",
     "text": [
      "TotalResponses = 4749\n",
      "TotalPromoterQty = 1877\n",
      "TotalDetractorQty = 1539\n",
      "Operation_TotalResponses = 4074\n",
      "Operation_PromoterQty = 1579\n",
      "Operation_DetractorQty = 1399\n",
      "HumanResources_TotalResponses = 148\n",
      "HumanResources_PromoterQty = 71\n",
      "HumanResources_DetractorQty = 27\n",
      "Commercial_TotalResponses = 184\n",
      "Commercial_PromoterQty = 70\n",
      "Commercial_DetractorQty = 38\n"
     ]
    }
   ],
   "source": [
    "# Calculating eNPS parameters\n",
    "TotalResponses = len(df01)\n",
    "TotalPromoterQty = len(Total_Promoter_df)\n",
    "TotalDetractorQty = len(Total_Detractor_df)\n",
    "Operation_TotalResponses = len(Operation_df)\n",
    "Operation_PromoterQty = len(Operation_Promoter_df)\n",
    "Operation_DetractorQty = len(Operation_Detractor_df)\n",
    "HumanResources_TotalResponses = len(HumanResources_df)\n",
    "HumanResources_PromoterQty = len(HumanResources_Promoter_df)\n",
    "HumanResources_DetractorQty = len(HumanResources_Detractor_df)\n",
    "Commercial_TotalResponses = len(Commercial_df)\n",
    "Commercial_PromoterQty = len(Commercial_Promoter_df)\n",
    "Commercial_DetractorQty = len(Commercial_Detractor_df)\n",
    "\n",
    "print(\"TotalResponses =\", TotalResponses)\n",
    "print(\"TotalPromoterQty =\", TotalPromoterQty)\n",
    "print(\"TotalDetractorQty =\", TotalDetractorQty)\n",
    "print(\"Operation_TotalResponses =\", Operation_TotalResponses)\n",
    "print(\"Operation_PromoterQty =\", Operation_PromoterQty)\n",
    "print(\"Operation_DetractorQty =\", Operation_DetractorQty)\n",
    "print(\"HumanResources_TotalResponses =\", HumanResources_TotalResponses)\n",
    "print(\"HumanResources_PromoterQty =\", HumanResources_PromoterQty)\n",
    "print(\"HumanResources_DetractorQty =\", HumanResources_DetractorQty)\n",
    "print(\"Commercial_TotalResponses =\", Commercial_TotalResponses)\n",
    "print(\"Commercial_PromoterQty =\", Commercial_PromoterQty)\n",
    "print(\"Commercial_DetractorQty =\", Commercial_DetractorQty)"
   ]
  },
  {
   "cell_type": "code",
   "execution_count": 155,
   "id": "04abddea",
   "metadata": {},
   "outputs": [
    {
     "name": "stdout",
     "output_type": "stream",
     "text": [
      "Operation_eNPS = 4.418262150220913\n",
      "HumanResources_eNPS = 29.72972972972973\n",
      "Commercial_eNPS = 17.391304347826086\n",
      "Total_eNPS = 7.1172878500737005\n",
      "eNPS_List = [4.418262150220913, 29.72972972972973, 17.391304347826086, 7.1172878500737005]\n"
     ]
    }
   ],
   "source": [
    "# Calculating eNPS\n",
    "Operation_eNPS = ((Operation_PromoterQty-Operation_DetractorQty)/Operation_TotalResponses)*100\n",
    "HumanResources_eNPS = ((HumanResources_PromoterQty-HumanResources_DetractorQty)/HumanResources_TotalResponses)*100\n",
    "Commercial_eNPS = ((Commercial_PromoterQty-Commercial_DetractorQty)/Commercial_TotalResponses)*100\n",
    "Total_eNPS = ((TotalPromoterQty-TotalDetractorQty)/TotalResponses)*100\n",
    "eNPS_List = [Operation_eNPS, HumanResources_eNPS, Commercial_eNPS, Total_eNPS]\n",
    "print(\"Operation_eNPS =\", Operation_eNPS)\n",
    "print(\"HumanResources_eNPS =\", HumanResources_eNPS)\n",
    "print(\"Commercial_eNPS =\", Commercial_eNPS)\n",
    "print(\"Total_eNPS =\", Total_eNPS)\n",
    "print(\"eNPS_List =\", eNPS_List)"
   ]
  },
  {
   "cell_type": "code",
   "execution_count": 222,
   "id": "2aefc7ed",
   "metadata": {},
   "outputs": [
    {
     "name": "stdout",
     "output_type": "stream",
     "text": [
      "            X        Y1        Y2        Y3        Y4        Y5        Y6  \\\n",
      "X    1.000000  0.686328  0.982195  0.926779  0.063688  0.974455  0.945786   \n",
      "Y1   0.686328  1.000000  0.540535  0.909223 -0.681568  0.505525  0.884466   \n",
      "Y2   0.982195  0.540535  1.000000  0.841515  0.247222  0.998585  0.870617   \n",
      "Y3   0.926779  0.909223  0.841515  1.000000 -0.315297  0.818826  0.998217   \n",
      "Y4   0.063688 -0.681568  0.247222 -0.315297  1.000000  0.286176 -0.261392   \n",
      "Y5   0.974455  0.505525  0.998585  0.818826  0.286176  1.000000  0.849159   \n",
      "Y6   0.945786  0.884466  0.870617  0.998217 -0.261392  0.849159  1.000000   \n",
      "Y7   0.860978  0.960753  0.751806  0.988857 -0.452710  0.724755  0.978537   \n",
      "Y8  -0.175387 -0.834720  0.010784 -0.531065  0.970892  0.050016 -0.481839   \n",
      "Y9   0.998681  0.648372  0.990003  0.906389  0.114163  0.984566  0.927876   \n",
      "Y10  0.985547  0.554530  0.999757  0.850581  0.230834  0.998148  0.878580   \n",
      "Y11  0.976449  0.528554  0.998497  0.832328  0.259924  0.995806  0.863094   \n",
      "Y12  0.990082  0.577471  0.997949  0.864851  0.202719  0.996247  0.890808   \n",
      "Y13 -0.429937 -0.951700 -0.256742 -0.737570  0.872686 -0.216319 -0.698971   \n",
      "Y14  0.989577  0.575243  0.997499  0.863352  0.204849  0.996266  0.889190   \n",
      "Y15  0.946460  0.550800  0.942975  0.824562  0.184491  0.950917  0.843039   \n",
      "Y16  0.976112  0.827929  0.918976  0.986247 -0.154332  0.902432  0.993590   \n",
      "Y17  0.319159 -0.470180  0.487858 -0.060077  0.965693  0.523803 -0.004564   \n",
      "Y18  0.912869  0.923401  0.821932  0.999370 -0.348644  0.797960  0.995667   \n",
      "Y19 -0.365221  0.426305 -0.529090  0.011182 -0.950928 -0.564757 -0.043811   \n",
      "\n",
      "           Y7        Y8        Y9       Y10       Y11       Y12       Y13  \\\n",
      "X    0.860978 -0.175387  0.998681  0.985547  0.976449  0.990082 -0.429937   \n",
      "Y1   0.960753 -0.834720  0.648372  0.554530  0.528554  0.577471 -0.951700   \n",
      "Y2   0.751806  0.010784  0.990003  0.999757  0.998497  0.997949 -0.256742   \n",
      "Y3   0.988857 -0.531065  0.906389  0.850581  0.832328  0.864851 -0.737570   \n",
      "Y4  -0.452710  0.970892  0.114163  0.230834  0.259924  0.202719  0.872686   \n",
      "Y5   0.724755  0.050016  0.984566  0.998148  0.995806  0.996247 -0.216319   \n",
      "Y6   0.978537 -0.481839  0.927876  0.878580  0.863094  0.890808 -0.698971   \n",
      "Y7   1.000000 -0.651232  0.834008  0.763036  0.740633  0.781164 -0.829192   \n",
      "Y8  -0.651232  1.000000 -0.125547 -0.006588  0.026235 -0.036295  0.961703   \n",
      "Y9   0.834008 -0.125547  1.000000  0.992626  0.984487  0.995969 -0.383331   \n",
      "Y10  0.763036 -0.006588  0.992626  1.000000  0.997270  0.999114 -0.272599   \n",
      "Y11  0.740633  0.026235  0.984487  0.997270  1.000000  0.993440 -0.244665   \n",
      "Y12  0.781164 -0.036295  0.995969  0.999114  0.993440  1.000000 -0.298942   \n",
      "Y13 -0.829192  0.961703 -0.383331 -0.272599 -0.244665 -0.298942  1.000000   \n",
      "Y14  0.779537 -0.034396  0.995665  0.998780  0.992442  0.999938 -0.296315   \n",
      "Y15  0.749137 -0.052279  0.954001  0.948277  0.923401  0.958165 -0.282265   \n",
      "Y16  0.950839 -0.384327  0.963735  0.925689  0.911159  0.935924 -0.615821   \n",
      "Y17 -0.207210  0.875391  0.366962  0.473565  0.496951  0.448907  0.718304   \n",
      "Y18  0.993449 -0.560545  0.890824  0.831450  0.812561  0.846489 -0.761053   \n",
      "Y19  0.158716 -0.849199 -0.412252 -0.515562 -0.536495 -0.492308 -0.683441   \n",
      "\n",
      "          Y14       Y15       Y16       Y17       Y18       Y19  \n",
      "X    0.989577  0.946460  0.976112  0.319159  0.912869 -0.365221  \n",
      "Y1   0.575243  0.550800  0.827929 -0.470180  0.923401  0.426305  \n",
      "Y2   0.997499  0.942975  0.918976  0.487858  0.821932 -0.529090  \n",
      "Y3   0.863352  0.824562  0.986247 -0.060077  0.999370  0.011182  \n",
      "Y4   0.204849  0.184491 -0.154332  0.965693 -0.348644 -0.950928  \n",
      "Y5   0.996266  0.950917  0.902432  0.523803  0.797960 -0.564757  \n",
      "Y6   0.889190  0.843039  0.993590 -0.004564  0.995667 -0.043811  \n",
      "Y7   0.779537  0.749137  0.950839 -0.207210  0.993449  0.158716  \n",
      "Y8  -0.034396 -0.052279 -0.384327  0.875391 -0.560545 -0.849199  \n",
      "Y9   0.995665  0.954001  0.963735  0.366962  0.890824 -0.412252  \n",
      "Y10  0.998780  0.948277  0.925689  0.473565  0.831450 -0.515562  \n",
      "Y11  0.992442  0.923401  0.911159  0.496951  0.812561 -0.536495  \n",
      "Y12  0.999938  0.958165  0.935924  0.448907  0.846489 -0.492308  \n",
      "Y13 -0.296315 -0.282265 -0.615821  0.718304 -0.761053 -0.683441  \n",
      "Y14  1.000000  0.961215  0.934830  0.451104  0.844894 -0.494690  \n",
      "Y15  0.961215  1.000000  0.893293  0.428297  0.806443 -0.476382  \n",
      "Y16  0.934830  0.893293  1.000000  0.105696  0.979762 -0.154238  \n",
      "Y17  0.451104  0.428297  0.105696  1.000000 -0.095415 -0.998529  \n",
      "Y18  0.844894  0.806443  0.979762 -0.095415  1.000000  0.046652  \n",
      "Y19 -0.494690 -0.476382 -0.154238 -0.998529  0.046652  1.000000  \n"
     ]
    }
   ],
   "source": [
    "# Calculating the Correlation between \"eNPS_List\" and all question column means\n",
    "Correlation_df = {\"X\"  :eNPS_List,\n",
    "                  \"Y1\" :Q1_columnsMean,\n",
    "                  \"Y2\" :Q2_columnsMean,\n",
    "                  \"Y3\" :Q3_columnsMean,\n",
    "                  \"Y4\" :Q4_columnsMean,\n",
    "                  \"Y5\" :Q5_columnsMean,\n",
    "                  \"Y6\" :Q6_columnsMean,\n",
    "                  \"Y7\" :Q7_columnsMean,\n",
    "                  \"Y8\" :Q8_columnsMean,\n",
    "                  \"Y9\" :Q9_columnsMean,\n",
    "                  \"Y10\":Q10_columnsMean,\n",
    "                  \"Y11\":Q11_columnsMean,\n",
    "                  \"Y12\":Q12_columnsMean,\n",
    "                  \"Y13\":Q13_columnsMean,\n",
    "                  \"Y14\":Q14_columnsMean,\n",
    "                  \"Y15\":Q15_columnsMean,\n",
    "                  \"Y16\":Q16_columnsMean,\n",
    "                  \"Y17\":Q17_columnsMean,\n",
    "                  \"Y18\":Q18_columnsMean,\n",
    "                  \"Y19\":Q19_columnsMean\n",
    "                  }\n",
    "Answer = pd.DataFrame(Correlation_df)\n",
    "print(Answer.corr())"
   ]
  }
 ],
 "metadata": {
  "kernelspec": {
   "display_name": "Python 3 (ipykernel)",
   "language": "python",
   "name": "python3"
  },
  "language_info": {
   "codemirror_mode": {
    "name": "ipython",
    "version": 3
   },
   "file_extension": ".py",
   "mimetype": "text/x-python",
   "name": "python",
   "nbconvert_exporter": "python",
   "pygments_lexer": "ipython3",
   "version": "3.11.4"
  }
 },
 "nbformat": 4,
 "nbformat_minor": 5
}
